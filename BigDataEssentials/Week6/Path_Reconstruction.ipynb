{
 "cells": [
  {
   "cell_type": "code",
   "execution_count": 1,
   "metadata": {},
   "outputs": [],
   "source": [
    "from pyspark import SparkConf, SparkContext\n",
    "sc = SparkContext(conf=SparkConf().setAppName(\"MyApp\").setMaster(\"local\"))"
   ]
  },
  {
   "cell_type": "code",
   "execution_count": 2,
   "metadata": {},
   "outputs": [],
   "source": [
    "def parse_edge(s):\n",
    "    user, follower = s.split(\"\\t\")\n",
    "    return (int(user), int(follower))\n",
    "def step(item):\n",
    "    prev_v, prev_d, next_v = item[0], item[1][0], item[1][1]\n",
    "    return (next_v, prev_d + 1)\n",
    "def complete(item):\n",
    "    v, old_d, new_d = item[0], item[1][0], item[1][1]\n",
    "    return (v, old_d if old_d is not None else new_d)"
   ]
  },
  {
   "cell_type": "code",
   "execution_count": 3,
   "metadata": {},
   "outputs": [],
   "source": [
    "def step_path(item):\n",
    "    last_vert, path, new_vert = item[0], item[1][0], item[1][1]\n",
    "    last_vert = new_vert\n",
    "    path += tuple([new_vert])\n",
    "    return (last_vert, path)"
   ]
  },
  {
   "cell_type": "code",
   "execution_count": 4,
   "metadata": {},
   "outputs": [
    {
     "name": "stdout",
     "output_type": "stream",
     "text": [
      "Calculating distance = 1...\n",
      "Calculating distance = 2...\n",
      "Calculating distance = 3...\n",
      "Calculating distance = 4...\n",
      "Calculating distance = 5...\n",
      "Calculating distance = 6...\n",
      "Calculating distance = 7...\n",
      "Calculating distance = 8...\n",
      "12,422,53,52,107,20,23,274,34\n"
     ]
    }
   ],
   "source": [
    "\n",
    "number_of_partitions = 4\n",
    "edges = sc.textFile(\"/data/twitter/twitter_sample_small.txt\").map(parse_edge).cache()\n",
    "forward_edges = edges.map(lambda e: (e[1], e[0])).partitionBy(number_of_partitions).persist()\n",
    "\n",
    "x_start = 12\n",
    "x_end = 34\n",
    "\n",
    "paths = sc.parallelize([ (x_start, tuple([x_start])) ]).partitionBy(number_of_partitions)\n",
    "\n",
    "d = 0\n",
    "\n",
    "while True:\n",
    "    d += 1\n",
    "    print 'Calculating distance = %d...' % d\n",
    "    paths = paths.join(forward_edges, number_of_partitions).map(step_path)\n",
    "    if paths.filter(lambda x: x[0] == x_end).count() > 0:\n",
    "        break\n",
    "        \n",
    "paths = paths.filter(lambda x: x[0] == x_end).collect()\n",
    "\n",
    "min_path = paths[0][1]\n",
    "min_path_len = len(min_path)\n",
    "for path in paths:\n",
    "    path = path[1]\n",
    "    if len(path) < min_path_len:\n",
    "        min_path = path\n",
    "        min_path_len = len(min_path)\n",
    "\n",
    "print(','.join(map(str, min_path)))"
   ]
  },
  {
   "cell_type": "code",
   "execution_count": null,
   "metadata": {},
   "outputs": [],
   "source": []
  },
  {
   "cell_type": "code",
   "execution_count": null,
   "metadata": {},
   "outputs": [],
   "source": []
  },
  {
   "cell_type": "code",
   "execution_count": null,
   "metadata": {},
   "outputs": [],
   "source": []
  }
 ],
 "metadata": {
  "kernelspec": {
   "display_name": "Python 2",
   "language": "python",
   "name": "python2"
  },
  "language_info": {
   "codemirror_mode": {
    "name": "ipython",
    "version": 2
   },
   "file_extension": ".py",
   "mimetype": "text/x-python",
   "name": "python",
   "nbconvert_exporter": "python",
   "pygments_lexer": "ipython2",
   "version": "2.7.12"
  }
 },
 "nbformat": 4,
 "nbformat_minor": 2
}
