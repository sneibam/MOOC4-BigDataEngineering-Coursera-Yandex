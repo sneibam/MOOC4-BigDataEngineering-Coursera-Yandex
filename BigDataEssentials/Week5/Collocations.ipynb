{
 "cells": [
  {
   "cell_type": "code",
   "execution_count": 1,
   "metadata": {},
   "outputs": [],
   "source": [
    "from __future__ import division\n",
    "from pyspark import SparkConf, SparkContext\n",
    "import re"
   ]
  },
  {
   "cell_type": "code",
   "execution_count": 2,
   "metadata": {},
   "outputs": [],
   "source": [
    "try:\n",
    "    sc = SparkContext(conf=SparkConf().setAppName(\"MyApp\").setMaster(\"local\").set(\"spark.cores.max\", \"4\"))\n",
    "except:\n",
    "    pass"
   ]
  },
  {
   "cell_type": "code",
   "execution_count": 3,
   "metadata": {},
   "outputs": [],
   "source": [
    "def parse_article(line):\n",
    "    try:\n",
    "        article_id, text = unicode(line.rstrip()).split('\\t', 1)\n",
    "        text = re.sub(\"^\\W+|\\W+$\", \"\", text, flags=re.UNICODE)\n",
    "        words = re.split(\"\\W*\\s+\\W*\", text, flags=re.UNICODE)\n",
    "        return words\n",
    "    except ValueError as e:\n",
    "        return []"
   ]
  },
  {
   "cell_type": "code",
   "execution_count": 4,
   "metadata": {},
   "outputs": [],
   "source": [
    "wiki = sc.textFile(\"/data/wiki/en_articles_part/articles-part\", 16).map(parse_article)"
   ]
  },
  {
   "cell_type": "code",
   "execution_count": 5,
   "metadata": {},
   "outputs": [],
   "source": [
    "with open('/datasets/stop_words_en.txt', 'r') as f:\n",
    "    stop_words = set(f.read().split())"
   ]
  },
  {
   "cell_type": "code",
   "execution_count": 6,
   "metadata": {},
   "outputs": [],
   "source": [
    "def create_bigrams(words):\n",
    "    bigrams = []\n",
    "    for i, word in enumerate(words[:-1]):\n",
    "        pair = u'_'.join((word, words[i+1])).encode('utf-8')\n",
    "        cnt = 1\n",
    "        bigrams.append((pair, cnt))\n",
    "    return bigrams"
   ]
  },
  {
   "cell_type": "code",
   "execution_count": 7,
   "metadata": {},
   "outputs": [],
   "source": [
    "from math import log\n",
    "def calc_npmi(pair, cnt, words_occurrences_dict, total_num_of_words, total_num_of_pairs):\n",
    "    word1, word2 = pair.split('_')\n",
    "    p_a = words_occurrences_dict[word1] / total_num_of_words\n",
    "    p_b = words_occurrences_dict[word2] / total_num_of_words\n",
    "    \n",
    "    pmi_ab = cnt / total_num_of_pairs\n",
    "    pmi_a_b = log(pmi_ab / (p_a * p_b))\n",
    "    \n",
    "    nmpi_a_b = pmi_a_b / -log(pmi_ab)\n",
    "    return (pair, nmpi_a_b)"
   ]
  },
  {
   "cell_type": "code",
   "execution_count": 8,
   "metadata": {},
   "outputs": [],
   "source": [
    "wiki_lower = wiki.map(lambda words: [x.lower() for x in words])\n",
    "\n",
    "wiki_filt = wiki_lower.map(lambda words: [x for x in words if x not in stop_words])\n",
    "\n",
    "wiki_bigrams = wiki_filt.flatMap(create_bigrams)\n",
    "\n",
    "wiki_red = wiki_bigrams.reduceByKey(lambda a, b: a + b)\n",
    "\n",
    "wiki_red_filt = wiki_red.filter(lambda (pair, cnt): cnt >= 500)"
   ]
  },
  {
   "cell_type": "code",
   "execution_count": 9,
   "metadata": {},
   "outputs": [],
   "source": [
    "tot_num_words = wiki_filt.map(lambda words: len(words))\n",
    "tot_num_words = tot_num_words.reduce(lambda a, b: a + b)"
   ]
  },
  {
   "cell_type": "code",
   "execution_count": null,
   "metadata": {},
   "outputs": [],
   "source": [
    "tot_num_pairs = wiki_filt.map(lambda words: len(words) - 1)\n",
    "tot_num_pairs = tot_num_pairs.reduce(lambda a, b: a + b)"
   ]
  },
  {
   "cell_type": "code",
   "execution_count": null,
   "metadata": {},
   "outputs": [],
   "source": [
    "words_occ = wiki_filt.flatMap(lambda words: [(x, 1) for x in words])\n",
    "words_occ = words_occ.reduceByKey(lambda a, b: a + b)\n",
    "words_occ = words_occ.filter(lambda (pair, cnt): cnt >= 500)\n",
    "words_occ = words_occ.collect()\n",
    "\n",
    "words_occ_dict = dict()\n",
    "for item, cnt in words_occ:\n",
    "    words_occ_dict[item] = cnt"
   ]
  },
  {
   "cell_type": "code",
   "execution_count": null,
   "metadata": {},
   "outputs": [],
   "source": [
    "pairs_npmi = wiki_red_filt\\\n",
    "    .map(lambda (pair, cnt): calc_npmi(pair, cnt, words_occ_dict, tot_num_words, tot_num_pairs))\\\n",
    "    .map(lambda (a, b): (b, a))\\\n",
    "    .sortByKey(False)\\\n",
    "    .map(lambda (a, b): (b, a))\\\n",
    "    .take(39)"
   ]
  },
  {
   "cell_type": "code",
   "execution_count": null,
   "metadata": {},
   "outputs": [],
   "source": [
    "for pair, npmi in pairs_npmi:\n",
    "    print pair"
   ]
  },
  {
   "cell_type": "code",
   "execution_count": null,
   "metadata": {},
   "outputs": [],
   "source": []
  }
 ],
 "metadata": {
  "kernelspec": {
   "display_name": "Python 2",
   "language": "python",
   "name": "python2"
  },
  "language_info": {
   "codemirror_mode": {
    "name": "ipython",
    "version": 2
   },
   "file_extension": ".py",
   "mimetype": "text/x-python",
   "name": "python",
   "nbconvert_exporter": "python",
   "pygments_lexer": "ipython2",
   "version": "2.7.12"
  }
 },
 "nbformat": 4,
 "nbformat_minor": 2
}
